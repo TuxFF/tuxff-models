{
 "cells": [
  {
   "cell_type": "code",
   "execution_count": 1,
   "id": "5642db4e",
   "metadata": {},
   "outputs": [
    {
     "data": {
      "text/plain": [
       "'cuda'"
      ]
     },
     "execution_count": 1,
     "metadata": {},
     "output_type": "execute_result"
    }
   ],
   "source": [
    "import pandas as pd\n",
    "import numpy as np\n",
    "import matplotlib.pyplot as plt\n",
    "from sklearn.model_selection import train_test_split\n",
    "from sklearn.preprocessing import StandardScaler\n",
    "import joblib\n",
    "\n",
    "import torch\n",
    "from torch.utils.data import Dataset, DataLoader\n",
    "import torch.nn as nn\n",
    "import torch.optim as optim\n",
    "\n",
    "if torch.cuda.is_available():\n",
    "    device = \"cuda\"\n",
    "elif torch.mps.is_available():\n",
    "    device = \"mps\"\n",
    "else:\n",
    "    device = \"cpu\"\n",
    "device"
   ]
  },
  {
   "cell_type": "code",
   "execution_count": 2,
   "id": "c6008b45",
   "metadata": {},
   "outputs": [],
   "source": [
    "class nfl_dataset(Dataset):\n",
    "    def __init__(self, data, targets, transform=None):\n",
    "        self.data = data\n",
    "        self.targets = targets\n",
    "        self.transform = transform\n",
    "        \n",
    "    def __len__(self):\n",
    "        return len(self.data)\n",
    "\n",
    "    def __getitem__(self, idx):\n",
    "        sample = self.data[idx]\n",
    "        target = self.targets[idx]\n",
    "        \n",
    "        if self.transform:\n",
    "            sample = self.transform(sample)\n",
    "        \n",
    "        sample = torch.tensor(sample, dtype=torch.float32)\n",
    "        target = torch.tensor(target, dtype=torch.float32)\n",
    "        \n",
    "        return sample, target"
   ]
  },
  {
   "cell_type": "code",
   "execution_count": 11,
   "id": "5241e8cd",
   "metadata": {},
   "outputs": [],
   "source": [
    "class MDN(nn.Module):\n",
    "    def __init__(self, input_size, hidden_layers, num_gaussians, dropout_rate):\n",
    "        super(MDN, self).__init__()\n",
    "        \n",
    "        # hyperparameters\n",
    "        self.input_size = input_size\n",
    "        self.hidden_layers = hidden_layers\n",
    "        self.num_gaussians = num_gaussians\n",
    "        \n",
    "        # convert hidden layer parameters to linear layers\n",
    "        layers = []\n",
    "        layer_sizes = [input_size] + hidden_layers\n",
    "        for i in range(len(layer_sizes) - 1):\n",
    "            layers.append(nn.Linear(layer_sizes[i], layer_sizes[i + 1]))\n",
    "        self.hidden_layers_net = nn.ModuleList(layers)\n",
    "        \n",
    "        # relu and dropout\n",
    "        self.relu = nn.ReLU()\n",
    "        self.dropout = nn.Dropout(dropout_rate)\n",
    "        \n",
    "        # mixture distribution layers\n",
    "        self.pi_layer = nn.Linear(64, num_gaussians)\n",
    "        self.mu_layer = nn.Linear(64, num_gaussians)\n",
    "        self.sigma_layer = nn.Linear(64, num_gaussians)\n",
    "        self.softmax = nn.Softmax(dim=1)\n",
    "    \n",
    "    def forward(self, x):\n",
    "\n",
    "        for layer in self.hidden_layers_net:\n",
    "            x = layer(x)\n",
    "            x = self.relu(x)\n",
    "            x = self.dropout(x)\n",
    "        \n",
    "        pi = self.softmax(self.pi_layer(x))\n",
    "        mu = self.mu_layer(x)\n",
    "        \n",
    "        # stabilize sigma computation\n",
    "        sigma_raw = self.sigma_layer(x)\n",
    "        sigma = torch.nn.functional.softplus(torch.clamp(sigma_raw, -10, 10)) + 1e-6\n",
    "        \n",
    "        return pi, mu, sigma\n",
    "    \n",
    "    def mdn_loss(self, pi, mu, sigma, target):\n",
    "        log_2pi = torch.log(2 * torch.pi * sigma**2)\n",
    "        log_gaussian = -0.5 * (log_2pi + ((target - mu) / sigma) ** 2)\n",
    "        weighted_log_probs = torch.log(pi + 1e-8) + log_gaussian\n",
    "        log_likelihood = torch.logsumexp(weighted_log_probs, dim=1)\n",
    "        loss = -log_likelihood.mean()\n",
    "        \n",
    "        return loss"
   ]
  },
  {
   "cell_type": "code",
   "execution_count": 12,
   "id": "5864df86",
   "metadata": {},
   "outputs": [],
   "source": [
    "def train_model(model, train_loader, test_loader, optimizer, num_epochs, device):\n",
    "    train_losses = []\n",
    "    test_losses = []\n",
    "    \n",
    "    for epoch in range(num_epochs):\n",
    "        # Training phase\n",
    "        model.train()\n",
    "        train_loss = 0.0\n",
    "        \n",
    "        for batch_idx, (data, target) in enumerate(train_loader):\n",
    "            data, target = data.to(device), target.to(device)\n",
    "            \n",
    "            optimizer.zero_grad()\n",
    "            pi, mu, sigma = model(data)\n",
    "            loss = model.mdn_loss(pi, mu, sigma, target)\n",
    "            loss.backward()\n",
    "            torch.nn.utils.clip_grad_norm_(model.parameters(), max_norm=1.0)\n",
    "            optimizer.step()\n",
    "            \n",
    "            train_loss += loss.item()\n",
    "        \n",
    "        # Validation phase\n",
    "        model.eval()\n",
    "        test_loss = 0.0\n",
    "        with torch.no_grad():\n",
    "            for data, target in test_loader:\n",
    "                data, target = data.to(device), target.to(device)\n",
    "                pi, mu, sigma = model(data)\n",
    "                loss = model.mdn_loss(pi, mu, sigma, target)\n",
    "                test_loss += loss.item()\n",
    "        \n",
    "        # Calculate average losses\n",
    "        avg_train_loss = train_loss / len(train_loader)\n",
    "        avg_test_loss = test_loss / len(test_loader)\n",
    "        \n",
    "        train_losses.append(avg_train_loss)\n",
    "        test_losses.append(avg_test_loss)\n",
    "        \n",
    "        if epoch % 10 == 0:\n",
    "            print(f'Epoch {epoch}/{num_epochs}, Train Loss: {avg_train_loss:.4f}, Test Loss: {avg_test_loss:.4f}')\n",
    "    \n",
    "    return train_losses, test_losses\n",
    "        "
   ]
  },
  {
   "cell_type": "code",
   "execution_count": 13,
   "id": "555c6e2b",
   "metadata": {},
   "outputs": [
    {
     "data": {
      "text/plain": [
       "(17872, 65)"
      ]
     },
     "execution_count": 13,
     "metadata": {},
     "output_type": "execute_result"
    }
   ],
   "source": [
    "# load in data\n",
    "data_path = r'C:\\Users\\Jona\\Desktop\\tuxff\\tuxff-models\\data\\data_mdn.csv'\n",
    "data = pd.read_csv(data_path, delimiter=',')\n",
    "\n",
    "# train test split data\n",
    "features = data.iloc[:, 2:-1]\n",
    "targets = data.iloc[:, -1:]\n",
    "X_train, X_test, y_train, y_test = train_test_split(features, targets, test_size=0.2, random_state=42)\n",
    "\n",
    "# scaled x data\n",
    "scaler = StandardScaler()\n",
    "X_train_scaled = scaler.fit_transform(X_train)\n",
    "X_test_scaled = scaler.transform(X_test)\n",
    "\n",
    "# scale y data\n",
    "y_scaler = StandardScaler()\n",
    "y_train_scaled = y_scaler.fit_transform(y_train)\n",
    "y_test_scaled = y_scaler.transform(y_test)\n",
    "\n",
    "# create dataset\n",
    "train_dataset = nfl_dataset(X_train_scaled, y_train_scaled)\n",
    "test_dataset = nfl_dataset(X_test_scaled, y_test_scaled)\n",
    "\n",
    "# create dataloader\n",
    "train_loader = DataLoader(train_dataset, batch_size=32, shuffle=True)\n",
    "test_loader = DataLoader(test_dataset, batch_size=32, shuffle=False)\n",
    "\n",
    "X_train_scaled.shape"
   ]
  },
  {
   "cell_type": "code",
   "execution_count": 17,
   "id": "485080b3",
   "metadata": {},
   "outputs": [
    {
     "name": "stdout",
     "output_type": "stream",
     "text": [
      "Epoch 0/201, Train Loss: 1.2066, Test Loss: 0.9289\n",
      "Epoch 10/201, Train Loss: 0.7933, Test Loss: 0.7142\n",
      "Epoch 20/201, Train Loss: 0.7263, Test Loss: 0.6720\n",
      "Epoch 30/201, Train Loss: 0.6868, Test Loss: 0.6281\n",
      "Epoch 40/201, Train Loss: 0.6460, Test Loss: 0.6155\n",
      "Epoch 50/201, Train Loss: 0.6160, Test Loss: 0.6005\n",
      "Epoch 60/201, Train Loss: 0.5880, Test Loss: 0.5860\n",
      "Epoch 70/201, Train Loss: 0.5843, Test Loss: 0.5702\n",
      "Epoch 80/201, Train Loss: 0.5765, Test Loss: 0.5581\n",
      "Epoch 90/201, Train Loss: 0.5732, Test Loss: 0.5556\n",
      "Epoch 100/201, Train Loss: 0.5699, Test Loss: 0.5791\n",
      "Epoch 110/201, Train Loss: 0.6043, Test Loss: 0.5348\n",
      "Epoch 120/201, Train Loss: 0.6421, Test Loss: 0.6465\n",
      "Epoch 130/201, Train Loss: 0.6377, Test Loss: 0.5992\n",
      "Epoch 140/201, Train Loss: 0.6364, Test Loss: 0.6362\n",
      "Epoch 150/201, Train Loss: 0.6246, Test Loss: 0.6199\n",
      "Epoch 160/201, Train Loss: 0.6267, Test Loss: 0.6432\n",
      "Epoch 170/201, Train Loss: 0.6207, Test Loss: 0.6439\n",
      "Epoch 180/201, Train Loss: 0.6111, Test Loss: 0.6428\n",
      "Epoch 190/201, Train Loss: 0.6029, Test Loss: 0.6498\n",
      "Epoch 200/201, Train Loss: 0.6099, Test Loss: 0.6349\n"
     ]
    },
    {
     "data": {
      "image/png": "[encoded data removed]",
      "text/plain": [
       "<Figure size 1000x500 with 1 Axes>"
      ]
     },
     "metadata": {},
     "output_type": "display_data"
    }
   ],
   "source": [
    "input_size = 65\n",
    "hidden_layers = [256, 128, 64]\n",
    "num_gaussians = 3\n",
    "dropout = 0.5\n",
    "lr = 0.0001\n",
    "\n",
    "model = MDN(65, [256, 128, 64], 3, 0.5).to(device)\n",
    "optimizer = optim.Adam(model.parameters(), lr=lr)\n",
    "\n",
    "num_epochs = 201\n",
    "train_losses, test_losses = train_model(model, train_loader, test_loader, optimizer, num_epochs, device)\n",
    "\n",
    "plt.figure(figsize=(10, 5))\n",
    "plt.plot(train_losses, label='Train Loss', color='blue')\n",
    "plt.plot(test_losses, label='Test Loss', color='red')\n",
    "plt.xlabel('Epoch')\n",
    "plt.ylabel('Loss')\n",
    "plt.legend()\n",
    "plt.title('Training and Test Loss')\n",
    "plt.show()"
   ]
  },
  {
   "cell_type": "code",
   "execution_count": null,
   "id": "b26a2afa",
   "metadata": {},
   "outputs": [],
   "source": []
  },
  {
   "cell_type": "code",
   "execution_count": null,
   "id": "d821420f",
   "metadata": {},
   "outputs": [],
   "source": []
  }
 ],
 "metadata": {
  "kernelspec": {
   "display_name": "ds",
   "language": "python",
   "name": "python3"
  },
  "language_info": {
   "codemirror_mode": {
    "name": "ipython",
    "version": 3
   },
   "file_extension": ".py",
   "mimetype": "text/x-python",
   "name": "python",
   "nbconvert_exporter": "python",
   "pygments_lexer": "ipython3",
   "version": "3.10.16"
  }
 },
 "nbformat": 4,
 "nbformat_minor": 5
}
